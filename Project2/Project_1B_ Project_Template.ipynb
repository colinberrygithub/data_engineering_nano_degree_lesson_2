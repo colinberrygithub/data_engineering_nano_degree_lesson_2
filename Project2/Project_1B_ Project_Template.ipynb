{
 "cells": [
  {
   "cell_type": "markdown",
   "metadata": {},
   "source": [
    "# Part I. ETL Pipeline for Pre-Processing the Files"
   ]
  },
  {
   "cell_type": "markdown",
   "metadata": {},
   "source": [
    "## PLEASE RUN THE FOLLOWING CODE FOR PRE-PROCESSING THE FILES"
   ]
  },
  {
   "cell_type": "markdown",
   "metadata": {},
   "source": [
    "#### Import Python packages "
   ]
  },
  {
   "cell_type": "code",
   "execution_count": 1,
   "metadata": {},
   "outputs": [],
   "source": [
    "# Import Python packages \n",
    "import pandas as pd\n",
    "import cassandra\n",
    "import re\n",
    "import os\n",
    "import glob\n",
    "import numpy as np\n",
    "import json\n",
    "import csv"
   ]
  },
  {
   "cell_type": "markdown",
   "metadata": {},
   "source": [
    "#### Creating list of filepaths to process original event csv data files"
   ]
  },
  {
   "cell_type": "code",
   "execution_count": 2,
   "metadata": {},
   "outputs": [
    {
     "name": "stdout",
     "output_type": "stream",
     "text": [
      "/Users/theomar/data-engineering-udacity/Project2\n"
     ]
    }
   ],
   "source": [
    "# checking your current working directory\n",
    "print(os.getcwd())\n",
    "\n",
    "# Get your current folder and sub-folder event data\n",
    "filepath = os.getcwd() + '/event_data'\n",
    "\n",
    "# Create a for loop to create a list of files and collect each filepath\n",
    "for root, dirs, files in os.walk(filepath):\n",
    "    \n",
    "# join the file path and roots with the subdirectories using glob\n",
    "    file_path_list = glob.glob(os.path.join(root,'*'))"
   ]
  },
  {
   "cell_type": "markdown",
   "metadata": {},
   "source": [
    "#### Processing the files to create the data file csv that will be used for Apache Casssandra tables"
   ]
  },
  {
   "cell_type": "code",
   "execution_count": 3,
   "metadata": {},
   "outputs": [],
   "source": [
    "# initiating an empty list of rows that will be generated from each file\n",
    "full_data_rows_list = [] \n",
    "    \n",
    "# for every filepath in the file path list \n",
    "for f in file_path_list:\n",
    "\n",
    "# reading csv file \n",
    "    with open(f, 'r', encoding = 'utf8', newline='') as csvfile: \n",
    "        # creating a csv reader object \n",
    "        csv_reader = csv.reader(csvfile) \n",
    "        next(csv_reader)\n",
    "        \n",
    " # extracting each data row one by one and append it        \n",
    "        for line in csv_reader:\n",
    "            #print(line)\n",
    "            full_data_rows_list.append(line) \n",
    "            \n",
    "# uncomment the code below if you would like to get total number of rows \n",
    "#print(len(full_data_rows_list))\n",
    "# uncomment the code below if you would like to check to see what the list of event data rows will look like\n",
    "#print(full_data_rows_list)\n",
    "\n",
    "# creating a smaller event data csv file called event_datafile_full csv that will be used to insert data into the \\\n",
    "# Apache Cassandra tables\n",
    "csv.register_dialect('myDialect', quoting=csv.QUOTE_ALL, skipinitialspace=True)\n",
    "\n",
    "with open('event_datafile_new.csv', 'w', encoding = 'utf8', newline='') as f:\n",
    "    writer = csv.writer(f, dialect='myDialect')\n",
    "    writer.writerow(['artist','firstName','gender','itemInSession','lastName','length',\\\n",
    "                'level','location','sessionId','song','userId'])\n",
    "    for row in full_data_rows_list:\n",
    "        if row[0] == '':\n",
    "            continue\n",
    "        writer.writerow((row[0], row[2], row[3], row[4], row[5], row[6], row[7], row[8], row[12], row[13], row[16]))\n"
   ]
  },
  {
   "cell_type": "code",
   "execution_count": 4,
   "metadata": {},
   "outputs": [
    {
     "name": "stdout",
     "output_type": "stream",
     "text": [
      "6821\n"
     ]
    }
   ],
   "source": [
    "# check the number of rows in your csv file\n",
    "with open('event_datafile_new.csv', 'r', encoding = 'utf8') as f:\n",
    "    print(sum(1 for line in f))"
   ]
  },
  {
   "cell_type": "markdown",
   "metadata": {},
   "source": [
    "# Part II. Complete the Apache Cassandra coding portion of your project. \n",
    "\n",
    "## Now you are ready to work with the CSV file titled <font color=red>event_datafile_new.csv</font>, located within the Workspace directory.  The event_datafile_new.csv contains the following columns: \n",
    "- artist \n",
    "- firstName of user\n",
    "- gender of user\n",
    "- item number in session\n",
    "- last name of user\n",
    "- length of the song\n",
    "- level (paid or free song)\n",
    "- location of the user\n",
    "- sessionId\n",
    "- song title\n",
    "- userId\n",
    "\n",
    "The image below is a screenshot of what the denormalized data should appear like in the <font color=red>**event_datafile_new.csv**</font> after the code above is run:<br>\n",
    "\n",
    "<img src=\"images/image_event_datafile_new.jpg\">"
   ]
  },
  {
   "cell_type": "markdown",
   "metadata": {},
   "source": [
    "## Begin writing your Apache Cassandra code in the cells below"
   ]
  },
  {
   "cell_type": "markdown",
   "metadata": {},
   "source": [
    "#### Creating a Cluster"
   ]
  },
  {
   "cell_type": "code",
   "execution_count": 5,
   "metadata": {},
   "outputs": [],
   "source": [
    "# This should make a connection to a Cassandra instance your local machine \n",
    "# (127.0.0.1)\n",
    "\n",
    "from cassandra.cluster import Cluster\n",
    "cluster = Cluster()\n",
    "\n",
    "# To establish connection and begin executing queries, need a session\n",
    "session = cluster.connect()"
   ]
  },
  {
   "cell_type": "markdown",
   "metadata": {},
   "source": [
    "#### Create Keyspace"
   ]
  },
  {
   "cell_type": "markdown",
   "metadata": {},
   "source": [
    "### Lets create a keyspace with simple strategy and replication factor 3. So the data will be replicated into three nodes in total for high availability. "
   ]
  },
  {
   "cell_type": "code",
   "execution_count": 6,
   "metadata": {},
   "outputs": [
    {
     "data": {
      "text/plain": [
       "<cassandra.cluster.ResultSet at 0x123d19518>"
      ]
     },
     "execution_count": 6,
     "metadata": {},
     "output_type": "execute_result"
    }
   ],
   "source": [
    "session.execute(\"CREATE KEYSPACE if not exists event WITH REPLICATION = { 'class' : 'SimpleStrategy', 'replication_factor' : 3 }\")"
   ]
  },
  {
   "cell_type": "markdown",
   "metadata": {},
   "source": [
    "#### Set Keyspace"
   ]
  },
  {
   "cell_type": "code",
   "execution_count": 7,
   "metadata": {},
   "outputs": [],
   "source": [
    "session.set_keyspace('event')"
   ]
  },
  {
   "cell_type": "markdown",
   "metadata": {},
   "source": [
    "### Now we need to create tables to run the following queries. Remember, with Apache Cassandra you model the database tables on the queries you want to run."
   ]
  },
  {
   "cell_type": "markdown",
   "metadata": {},
   "source": [
    "## Create queries to ask the following three questions of the data\n",
    "\n",
    "### 1. Give me the artist, song title and song's length in the music app history that was heard during  sessionId = 338, and itemInSession  = 4\n",
    "\n",
    "\n",
    "### 2. Give me only the following: name of artist, song (sorted by itemInSession) and user (first and last name) for userid = 10, sessionid = 182\n",
    "    \n",
    "\n",
    "### 3. Give me every user name (first and last) in my music app history who listened to the song 'All Hands Against His Own'\n",
    "\n",
    "\n"
   ]
  },
  {
   "cell_type": "markdown",
   "metadata": {},
   "source": [
    "### Now create a table called query_by_sessionId_and_itemInSession for the fields sessionId, itemInSession,artist, song_title, song_length. We can use sessionId and itemInSession as a composite key since our query parameter are those two. Both are unique value, so we can go with that. "
   ]
  },
  {
   "cell_type": "code",
   "execution_count": 8,
   "metadata": {},
   "outputs": [
    {
     "data": {
      "text/plain": [
       "<cassandra.cluster.ResultSet at 0x12315b860>"
      ]
     },
     "execution_count": 8,
     "metadata": {},
     "output_type": "execute_result"
    }
   ],
   "source": [
    "session.execute(\"create table if not exists query_by_sessionId_and_itemInSession(sessionId int,itemInSession int,artist text, song_title text,song_length double,primary key((sessionId,itemInSession)))\")                    "
   ]
  },
  {
   "cell_type": "markdown",
   "metadata": {},
   "source": [
    "### Lets read the csv file, find the data.  And finally into into our cassandra table `query_by_sessionId_and_itemInSession`"
   ]
  },
  {
   "cell_type": "code",
   "execution_count": 9,
   "metadata": {
    "scrolled": false
   },
   "outputs": [],
   "source": [
    "# We have provided part of the code to set up the CSV file. Please complete the Apache Cassandra code below#\n",
    "file = 'event_datafile_new.csv'\n",
    "with open(file, encoding = 'utf8') as f:\n",
    "    csv_reader = csv.reader(f)\n",
    "    next(csv_reader) # skip header\n",
    "    for line in csv_reader:\n",
    "        artist=line[0]\n",
    "        sessionId=int(line[8])\n",
    "        itemInSession=int(line[3])\n",
    "        song_title=line[9]\n",
    "        song_length=float(line[5])        \n",
    "        query = \"\"\"INSERT INTO query_by_sessionId_and_itemInSession (sessionId,itemInSession,artist, song_title,song_length)VALUES (%s, %s, %s, %s, %s)\"\"\"\n",
    "        session.execute(query,(sessionId, itemInSession, artist,song_title,song_length))        "
   ]
  },
  {
   "cell_type": "markdown",
   "metadata": {},
   "source": [
    "#### Do a SELECT to verify that the data have been inserted into each table"
   ]
  },
  {
   "cell_type": "code",
   "execution_count": 10,
   "metadata": {
    "scrolled": true
   },
   "outputs": [
    {
     "name": "stdout",
     "output_type": "stream",
     "text": [
      "Row(artist='Los Rodriguez', song_title='Enganchate Conmigo')\n",
      "Row(artist='The Gerbils', song_title='(iii)')\n",
      "Row(artist='De-Phazz', song_title='Astrud Astronette')\n",
      "Row(artist='Tom Waits', song_title=\"Whistlin' Past The Graveyard\")\n",
      "Row(artist='Jimmy Eat World', song_title='The Middle')\n",
      "Row(artist='Jack Johnson', song_title='Better Together')\n",
      "Row(artist='Moose', song_title='Do You Remember')\n",
      "Row(artist='Fleetwood Mac', song_title='World Turning (LP Version)')\n",
      "Row(artist='Goldfrapp', song_title='Lovely Head')\n",
      "Row(artist='Pearl Jam', song_title='Encore Break')\n"
     ]
    }
   ],
   "source": [
    "rows= session.execute(\"SELECT artist, song_title FROM query_by_sessionId_and_itemInSession LIMIT 10\")\n",
    "for row in rows:\n",
    "    print(row)"
   ]
  },
  {
   "cell_type": "markdown",
   "metadata": {},
   "source": [
    "### Run the first query to achieve the result for the requirements `Give me the artist, song title and song's length in the music app history that was heard during sessionId = 338, and itemInSession = 4`"
   ]
  },
  {
   "cell_type": "code",
   "execution_count": 11,
   "metadata": {},
   "outputs": [
    {
     "name": "stdout",
     "output_type": "stream",
     "text": [
      "Row(artist='Faithless', song_title='Music Matters (Mark Knight Dub)')\n"
     ]
    },
    {
     "name": "stderr",
     "output_type": "stream",
     "text": [
      "/usr/local/lib/python3.7/site-packages/ipykernel_launcher.py:2: DeprecationWarning: ResultSet indexing support will be removed in 4.0. Consider using ResultSet.one() to get a single row.\n",
      "  \n"
     ]
    }
   ],
   "source": [
    "rows= session.execute(\"SELECT artist, song_title FROM query_by_sessionId_and_itemInSession where sessionId=%s and itemInSession=%s\",[338,4])\n",
    "print(rows[0])"
   ]
  },
  {
   "cell_type": "markdown",
   "metadata": {},
   "source": [
    "## Second Query"
   ]
  },
  {
   "cell_type": "markdown",
   "metadata": {},
   "source": [
    "### Create table called `query_by_userid_and_sessionid` with the fields named sessionId, userId, itemInSession, artist, song_title, first_name, last_name. Based on our query, we can use userId, sessionId as composite key and itemInSession as clustering key for the sorting. \n",
    "\n"
   ]
  },
  {
   "cell_type": "code",
   "execution_count": 12,
   "metadata": {},
   "outputs": [
    {
     "data": {
      "text/plain": [
       "<cassandra.cluster.ResultSet at 0x12490cb38>"
      ]
     },
     "execution_count": 12,
     "metadata": {},
     "output_type": "execute_result"
    }
   ],
   "source": [
    "session.execute(\"create table if not exists query_by_userid_and_sessionid(sessionId int,userId int,itemInSession int,artist text, song_title text,first_name text,last_name text,primary key((userId,sessionId),itemInSession))\")"
   ]
  },
  {
   "cell_type": "markdown",
   "metadata": {},
   "source": [
    "### Read the csv file, extract the field from each line and insert into the table `query_by_userid_and_sessionid\n",
    "`"
   ]
  },
  {
   "cell_type": "code",
   "execution_count": 13,
   "metadata": {},
   "outputs": [],
   "source": [
    "file = 'event_datafile_new.csv'\n",
    "with open(file, encoding = 'utf8') as f:\n",
    "    csv_reader = csv.reader(f)\n",
    "    next(csv_reader) # skip header\n",
    "    for line in csv_reader:\n",
    "        userId=int(line[10])\n",
    "        first_name=line[1]\n",
    "        last_name=line[4]\n",
    "        artist=line[0];\n",
    "        sessionId=int(line[8])\n",
    "        itemInSession=int(line[3])\n",
    "        song_title=line[9]      \n",
    "        query = \"\"\"INSERT INTO query_by_userid_and_sessionid (sessionId,userId,itemInSession,artist, song_title,first_name,last_name)VALUES (%s, %s, %s, %s,%s,%s,%s)\"\"\"\n",
    "        session.execute(query,(sessionId, userId,itemInSession, artist,song_title,first_name,last_name))\n",
    "                    "
   ]
  },
  {
   "cell_type": "markdown",
   "metadata": {},
   "source": [
    "### Verify that data has been inserted properly"
   ]
  },
  {
   "cell_type": "code",
   "execution_count": 14,
   "metadata": {},
   "outputs": [
    {
     "name": "stdout",
     "output_type": "stream",
     "text": [
      "Row(song_title='Sad Statue', first_name='Emily', last_name='Benson')\n",
      "Row(song_title='Stranger Lover', first_name='Emily', last_name='Benson')\n",
      "Row(song_title='Zero', first_name='Emily', last_name='Benson')\n",
      "Row(song_title='Head Up (LP Version)', first_name='Kinsley', last_name='Young')\n",
      "Row(song_title='Playa Hater (Amended Version)', first_name='Kinsley', last_name='Young')\n",
      "Row(song_title='Stay (The Black Rose And The Universal Wheel)', first_name='Kinsley', last_name='Young')\n",
      "Row(song_title=\"Roxane's Veil\", first_name='Kinsley', last_name='Young')\n",
      "Row(song_title='TRUE', first_name='Kinsley', last_name='Young')\n",
      "Row(song_title=\"I'm Done\", first_name='Kinsley', last_name='Young')\n",
      "Row(song_title=\"I'm Down\", first_name='Kinsley', last_name='Young')\n"
     ]
    }
   ],
   "source": [
    "rows= session.execute(\"SELECT song_title,first_name, last_name FROM query_by_userid_and_sessionid LIMIT 10\")\n",
    "for row in rows:\n",
    "    print(row)"
   ]
  },
  {
   "cell_type": "markdown",
   "metadata": {},
   "source": [
    "### Run the second query from the requirements above. "
   ]
  },
  {
   "cell_type": "code",
   "execution_count": 15,
   "metadata": {},
   "outputs": [
    {
     "name": "stdout",
     "output_type": "stream",
     "text": [
      "Row(song_title=\"Keep On Keepin' On\", first_name='Sylvie', last_name='Cruz')\n",
      "Row(song_title='Greece 2000', first_name='Sylvie', last_name='Cruz')\n",
      "Row(song_title='Kilometer', first_name='Sylvie', last_name='Cruz')\n",
      "Row(song_title='Catch You Baby (Steve Pitron & Max Sanna Radio Edit)', first_name='Sylvie', last_name='Cruz')\n"
     ]
    }
   ],
   "source": [
    "rows= session.execute(\"SELECT song_title,first_name, last_name FROM query_by_userid_and_sessionid where userId=%s and sessionId=%s\",[10,182])\n",
    "for row in rows:\n",
    "    print(row)"
   ]
  },
  {
   "cell_type": "markdown",
   "metadata": {},
   "source": [
    "# Third Query"
   ]
  },
  {
   "cell_type": "markdown",
   "metadata": {},
   "source": [
    "### Create table with the column named first_name, last_name,song_title"
   ]
  },
  {
   "cell_type": "code",
   "execution_count": 16,
   "metadata": {},
   "outputs": [
    {
     "data": {
      "text/plain": [
       "<cassandra.cluster.ResultSet at 0x1248fd400>"
      ]
     },
     "execution_count": 16,
     "metadata": {},
     "output_type": "execute_result"
    }
   ],
   "source": [
    "session.execute(\"create table if not exists query_by_song(song_title text,userId text, first_name text,last_name text,primary key((song_title), userId))\")\n",
    "\n",
    "\n"
   ]
  },
  {
   "cell_type": "markdown",
   "metadata": {},
   "source": [
    "### Read the csv file, extract the data from their. Finally insert into the table called `query_by_song`"
   ]
  },
  {
   "cell_type": "code",
   "execution_count": 17,
   "metadata": {},
   "outputs": [],
   "source": [
    "file = 'event_datafile_new.csv'\n",
    "with open(file, encoding = 'utf8') as f:\n",
    "    csv_reader = csv.reader(f)\n",
    "    next(csv_reader) # skip header\n",
    "    for line in csv_reader:\n",
    "        userId=line[10]\n",
    "        first_name=line[1]\n",
    "        last_name=line[4]\n",
    "        song_title=line[9]      \n",
    "        query = \"\"\"INSERT INTO query_by_song (song_title,userId,first_name,last_name)VALUES (%s, %s, %s, %s)\"\"\"\n",
    "        session.execute(query,(song_title,userId,first_name,last_name))\n",
    "                "
   ]
  },
  {
   "cell_type": "markdown",
   "metadata": {},
   "source": [
    "### Check the data has been inserted into the table properly"
   ]
  },
  {
   "cell_type": "code",
   "execution_count": 18,
   "metadata": {},
   "outputs": [
    {
     "name": "stdout",
     "output_type": "stream",
     "text": [
      "Row(first_name='Chloe', song_title=\"Wonder What's Next\", last_name='Cuevas')\n",
      "Row(first_name='Chloe', song_title=\"In The Dragon's Den\", last_name='Cuevas')\n",
      "Row(first_name='Aleena', song_title='Too Tough (1994 Digital Remaster)', last_name='Kirby')\n",
      "Row(first_name='Chloe', song_title='Rio De Janeiro Blue (Album Version)', last_name='Cuevas')\n",
      "Row(first_name='Lily', song_title='My Place', last_name='Koch')\n",
      "Row(first_name='Jacob', song_title='My Place', last_name='Klein')\n",
      "Row(first_name='Layla', song_title='The Lucky Ones', last_name='Griffin')\n",
      "Row(first_name='Tegan', song_title='I Want You Now', last_name='Levine')\n",
      "Row(first_name='Mohammad', song_title='Why Worry', last_name='Rodriguez')\n",
      "Row(first_name='Kate', song_title='TvÃ\\x83Â¡rÃ\\x83Â\\xad v TvÃ\\x83Â¡r', last_name='Harrell')\n"
     ]
    }
   ],
   "source": [
    "rows= session.execute(\"SELECT first_name, song_title, last_name FROM query_by_song LIMIT 10\")\n",
    "for row in rows:\n",
    "    print(row)"
   ]
  },
  {
   "cell_type": "markdown",
   "metadata": {},
   "source": [
    "### Run the third query based on the requirements above"
   ]
  },
  {
   "cell_type": "code",
   "execution_count": 19,
   "metadata": {},
   "outputs": [
    {
     "name": "stdout",
     "output_type": "stream",
     "text": [
      "Row(first_name='Jacqueline', song_title='All Hands Against His Own', last_name='Lynch')\n",
      "Row(first_name='Tegan', song_title='All Hands Against His Own', last_name='Levine')\n",
      "Row(first_name='Sara', song_title='All Hands Against His Own', last_name='Johnson')\n"
     ]
    }
   ],
   "source": [
    "rows= session.execute(\"SELECT first_name, song_title, last_name FROM query_by_song where song_title=%s\",['All Hands Against His Own'])\n",
    "for row in rows:\n",
    "    print(row)"
   ]
  },
  {
   "cell_type": "markdown",
   "metadata": {},
   "source": [
    "### Drop the tables before closing out the sessions"
   ]
  },
  {
   "cell_type": "code",
   "execution_count": 20,
   "metadata": {},
   "outputs": [
    {
     "data": {
      "text/plain": [
       "<cassandra.cluster.ResultSet at 0x1249106d8>"
      ]
     },
     "execution_count": 20,
     "metadata": {},
     "output_type": "execute_result"
    }
   ],
   "source": [
    "session.execute(\"DROP TABLE query_by_sessionId_and_itemInSession;\")\n",
    "session.execute(\"DROP TABLE query_by_userid_and_sessionid;\")\n",
    "session.execute(\"DROP TABLE query_by_song;\")"
   ]
  },
  {
   "cell_type": "markdown",
   "metadata": {},
   "source": [
    "### Close the session and cluster connection¶"
   ]
  },
  {
   "cell_type": "code",
   "execution_count": 21,
   "metadata": {},
   "outputs": [],
   "source": [
    "session.shutdown()\n",
    "cluster.shutdown()"
   ]
  },
  {
   "cell_type": "code",
   "execution_count": null,
   "metadata": {},
   "outputs": [],
   "source": []
  },
  {
   "cell_type": "code",
   "execution_count": null,
   "metadata": {},
   "outputs": [],
   "source": []
  }
 ],
 "metadata": {
  "kernelspec": {
   "display_name": "Python 3",
   "language": "python",
   "name": "python3"
  },
  "language_info": {
   "codemirror_mode": {
    "name": "ipython",
    "version": 3
   },
   "file_extension": ".py",
   "mimetype": "text/x-python",
   "name": "python",
   "nbconvert_exporter": "python",
   "pygments_lexer": "ipython3",
   "version": "3.7.3"
  },
  "pycharm": {
   "stem_cell": {
    "cell_type": "raw",
    "metadata": {
     "collapsed": false
    },
    "source": []
   }
  }
 },
 "nbformat": 4,
 "nbformat_minor": 2
}
